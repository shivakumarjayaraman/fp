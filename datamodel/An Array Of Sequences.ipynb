{
 "cells": [
  {
   "cell_type": "code",
   "execution_count": 1,
   "id": "49ca7ccf",
   "metadata": {},
   "outputs": [],
   "source": [
    "##### Container sequences (heterogenous) : list, tuples, collections.deque : holds references\n",
    "##### Flat sequences (homogenous) :  str, bytes, array.array : holds values\n"
   ]
  },
  {
   "cell_type": "code",
   "execution_count": 2,
   "id": "1ecf79b9",
   "metadata": {},
   "outputs": [],
   "source": [
    "##### Mutable sequences : list, bytearray, array.array, collections.deque\n",
    "##### Immutable sequences : tuple, str, bytes\n"
   ]
  },
  {
   "cell_type": "code",
   "execution_count": 3,
   "id": "9377e177",
   "metadata": {},
   "outputs": [
    {
     "name": "stdout",
     "output_type": "stream",
     "text": [
      "True\n",
      "True\n",
      "True\n"
     ]
    }
   ],
   "source": [
    "from collections import abc\n",
    "\n",
    "print (issubclass(abc.MutableSequence, abc.Sequence))\n",
    "print (issubclass(abc.MutableSequence, abc.Collection))\n",
    "print (issubclass(list, abc.MutableSequence))\n"
   ]
  },
  {
   "cell_type": "code",
   "execution_count": 4,
   "id": "0a225b5f",
   "metadata": {},
   "outputs": [
    {
     "data": {
      "text/plain": [
       "[36, 162, 163, 165, 8364, 164]"
      ]
     },
     "execution_count": 4,
     "metadata": {},
     "output_type": "execute_result"
    }
   ],
   "source": [
    "symbols = '$¢£¥€¤'\n",
    "codes = [ord(s) for s in symbols]\n",
    "codes"
   ]
  },
  {
   "cell_type": "code",
   "execution_count": 5,
   "id": "bde2ceb0",
   "metadata": {},
   "outputs": [
    {
     "name": "stdout",
     "output_type": "stream",
     "text": [
      "[36, 162, 163, 165, 8364, 164]\n",
      "164\n"
     ]
    }
   ],
   "source": [
    "\n",
    "codes = [l := ord(s) for s in symbols]\n",
    "print (codes)\n",
    "print (l)"
   ]
  },
  {
   "cell_type": "code",
   "execution_count": 6,
   "id": "59272343",
   "metadata": {},
   "outputs": [
    {
     "name": "stdout",
     "output_type": "stream",
     "text": [
      "[162, 163, 165, 8364, 164]\n",
      "[162, 163, 165, 8364, 164]\n"
     ]
    }
   ],
   "source": [
    "print (list(filter (lambda s: s> 127, map(ord, symbols))))\n",
    "print (list(ord(s) for s in symbols if ord(s) > 127))"
   ]
  },
  {
   "cell_type": "code",
   "execution_count": 7,
   "id": "3082644c",
   "metadata": {},
   "outputs": [
    {
     "data": {
      "text/plain": [
       "[('black', 'S'),\n",
       " ('black', 'M'),\n",
       " ('black', 'L'),\n",
       " ('white', 'S'),\n",
       " ('white', 'M'),\n",
       " ('white', 'L')]"
      ]
     },
     "execution_count": 7,
     "metadata": {},
     "output_type": "execute_result"
    }
   ],
   "source": [
    "## cartesian prod\n",
    "\n",
    "colors = ['black', 'white']\n",
    "sizes = ['S', 'M', 'L']\n",
    "\n",
    "shirts = [(c, s) for c in colors for s in sizes]\n",
    "shirts"
   ]
  },
  {
   "cell_type": "code",
   "execution_count": 8,
   "id": "ee48f56c",
   "metadata": {},
   "outputs": [
    {
     "name": "stdout",
     "output_type": "stream",
     "text": [
      "{162, 163, 36, 165, 164, 8364}\n",
      "(36, 162, 163, 165, 8364, 164)\n",
      "array('I', [36, 162, 163, 165, 8364, 164])\n"
     ]
    }
   ],
   "source": [
    "## Generator expressions\n",
    "\n",
    "symb = {ord(s) for s in symbols}\n",
    "print (symb)\n",
    "\n",
    "tups = tuple(ord(s) for s in symbols)\n",
    "print (tups)\n",
    "\n",
    "import array\n",
    "arr = array.array('I', (ord(s) for s in symbols))\n",
    "print (arr)"
   ]
  },
  {
   "cell_type": "code",
   "execution_count": 9,
   "id": "086f55b8",
   "metadata": {},
   "outputs": [
    {
     "name": "stdout",
     "output_type": "stream",
     "text": [
      "shiva\n"
     ]
    }
   ],
   "source": [
    "x = ('shiva', 'jobless', '33')\n",
    "name, _, _ = x\n",
    "print (name)"
   ]
  },
  {
   "cell_type": "code",
   "execution_count": 10,
   "id": "cc725a65",
   "metadata": {},
   "outputs": [
    {
     "name": "stdout",
     "output_type": "stream",
     "text": [
      "True\n",
      "(10, 'alpha', [8, 2])\n",
      "(10, 'alpha', [8, 2])\n",
      "True\n",
      "True\n",
      "(10, 'alpha', [8, 2, 9])\n",
      "(10, 'alpha', [8, 2, 9])\n"
     ]
    }
   ],
   "source": [
    "a = (10, 'alpha', [1,2])\n",
    "b = a\n",
    "\n",
    "\n",
    "print (a == b)\n",
    "\n",
    "b[-1][0] = 8\n",
    "print (a)\n",
    "print (b)\n",
    "print (a==b)\n",
    "\n",
    "b[-1].append(9)\n",
    "\n",
    "print (a==b)\n",
    "\n",
    "print (a)\n",
    "print (b)"
   ]
  },
  {
   "cell_type": "code",
   "execution_count": 11,
   "id": "f4f6b1e5",
   "metadata": {},
   "outputs": [
    {
     "name": "stdout",
     "output_type": "stream",
     "text": [
      "Cant hash a\n"
     ]
    },
    {
     "data": {
      "text/plain": [
       "-3550055125485641917"
      ]
     },
     "execution_count": 11,
     "metadata": {},
     "output_type": "execute_result"
    }
   ],
   "source": [
    "try :\n",
    "    hash(a)\n",
    "except :\n",
    "    print (\"Cant hash a\")\n",
    "    \n",
    "b = (1, 2)\n",
    "hash(b)"
   ]
  },
  {
   "cell_type": "code",
   "execution_count": 18,
   "id": "ba515a55",
   "metadata": {},
   "outputs": [
    {
     "name": "stdout",
     "output_type": "stream",
     "text": [
      "5 4\n",
      "4 5\n",
      "2, 4\n"
     ]
    }
   ],
   "source": [
    "mytup = (5, 4)\n",
    "a, b = mytup\n",
    "print (a, b)\n",
    "b, a  = a, b\n",
    "print (a, b)\n",
    "\n",
    "a, b = divmod(20, 8)\n",
    "print (f\"{a}, {b}\")\n"
   ]
  },
  {
   "cell_type": "code",
   "execution_count": 22,
   "id": "cd7fe091",
   "metadata": {},
   "outputs": [
    {
     "name": "stdout",
     "output_type": "stream",
     "text": [
      "/usr/lib/crypto libcrypto.so\n"
     ]
    }
   ],
   "source": [
    "import os\n",
    "\n",
    "a, b = os.path.split(\"/usr/lib/crypto/libcrypto.so\")\n",
    "\n",
    "print (a, b)"
   ]
  },
  {
   "cell_type": "code",
   "execution_count": 29,
   "id": "4df4db66",
   "metadata": {},
   "outputs": [
    {
     "name": "stdout",
     "output_type": "stream",
     "text": [
      "0 1\n",
      "[2, 3, 4, 5, 6, 7, 8, 9]\n",
      "0 1 2 []\n"
     ]
    }
   ],
   "source": [
    "a, b, *rest = range(10)\n",
    "\n",
    "print (a, b)\n",
    "print (rest)\n",
    "\n",
    "a, b, c, *rest = range(3)\n",
    "print (a, b, c, rest)"
   ]
  },
  {
   "cell_type": "code",
   "execution_count": 33,
   "id": "5fa36c07",
   "metadata": {},
   "outputs": [
    {
     "data": {
      "text/plain": [
       "(1, 2, 3, 10, (12, 13))"
      ]
     },
     "execution_count": 33,
     "metadata": {},
     "output_type": "execute_result"
    }
   ],
   "source": [
    "def fun(a, b, c, d, *rest) :\n",
    "    return a, b, c, d, rest\n",
    "\n",
    "arr = [1, 2, 3]\n",
    "fun(*arr, 10, 12, 13)"
   ]
  },
  {
   "cell_type": "code",
   "execution_count": 36,
   "id": "3e1c70d8",
   "metadata": {},
   "outputs": [
    {
     "data": {
      "text/plain": [
       "(1, 2, 3, 4, 0, 1, 2, 3)"
      ]
     },
     "execution_count": 36,
     "metadata": {},
     "output_type": "execute_result"
    }
   ],
   "source": [
    "1, 2, 3, 4, *range(4)\n"
   ]
  },
  {
   "cell_type": "code",
   "execution_count": 37,
   "id": "deeff079",
   "metadata": {},
   "outputs": [
    {
     "ename": "SyntaxError",
     "evalue": "invalid syntax (<ipython-input-37-ff44b5d8a139>, line 2)",
     "output_type": "error",
     "traceback": [
      "\u001b[0;36m  File \u001b[0;32m\"<ipython-input-37-ff44b5d8a139>\"\u001b[0;36m, line \u001b[0;32m2\u001b[0m\n\u001b[0;31m    match msg:\u001b[0m\n\u001b[0m          ^\u001b[0m\n\u001b[0;31mSyntaxError\u001b[0m\u001b[0;31m:\u001b[0m invalid syntax\n"
     ]
    }
   ],
   "source": [
    "def handle(msg) :\n",
    "    match msg:\n",
    "        case ['CREATE', data, arg] :\n",
    "            print (\"Create\", data, arg)\n",
    "        case ['READ', data] :\n",
    "            print (\"READ\", data)\n",
    "        case _ :\n",
    "            print (\"UNKNOWN\", msg)\n",
    "            \n",
    "handle(\"Whatever\")\n",
    "handle(\"CREATE\", 18, \"foo\")"
   ]
  }
 ],
 "metadata": {
  "kernelspec": {
   "display_name": "Python 3",
   "language": "python",
   "name": "python3"
  },
  "language_info": {
   "codemirror_mode": {
    "name": "ipython",
    "version": 3
   },
   "file_extension": ".py",
   "mimetype": "text/x-python",
   "name": "python",
   "nbconvert_exporter": "python",
   "pygments_lexer": "ipython3",
   "version": "3.8.8"
  }
 },
 "nbformat": 4,
 "nbformat_minor": 5
}
