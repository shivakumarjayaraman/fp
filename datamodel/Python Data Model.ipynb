{
 "cells": [
  {
   "cell_type": "code",
   "execution_count": 1,
   "id": "aae94528",
   "metadata": {},
   "outputs": [],
   "source": [
    "import collections\n",
    "\n",
    "Card = collections.namedtuple('Card', ['rank', 'suit'])\n"
   ]
  },
  {
   "cell_type": "code",
   "execution_count": 2,
   "id": "131ac8b3",
   "metadata": {},
   "outputs": [],
   "source": [
    "class FrenchDeck:\n",
    "    ranks = [str(n) for n in range(2, 11)] + list('JQKA')\n",
    "    suits = 'spades diamonds clubs hearts'.split()\n",
    "    \n",
    "    def __init__(self):\n",
    "        self._cards = [Card(r, s) for s in self.suits for r in self.ranks]\n",
    "        \n",
    "    def __len__(self):\n",
    "        return len(self._cards)\n",
    "    \n",
    "    def __getitem__(self, pos) :\n",
    "        ##print (\".\")\n",
    "        return self._cards[pos]\n",
    "    "
   ]
  },
  {
   "cell_type": "code",
   "execution_count": 3,
   "id": "d4c3ffd7",
   "metadata": {},
   "outputs": [
    {
     "name": "stdout",
     "output_type": "stream",
     "text": [
      "52\n",
      "[Card(rank='2', suit='spades'), Card(rank='3', suit='spades'), Card(rank='4', suit='spades'), Card(rank='5', suit='spades'), Card(rank='6', suit='spades')]\n"
     ]
    }
   ],
   "source": [
    "f = FrenchDeck()\n",
    "print (len(f))\n",
    "\n",
    "print (list(f[i] for i in range(5)))"
   ]
  },
  {
   "cell_type": "code",
   "execution_count": 4,
   "id": "9d23ff40",
   "metadata": {},
   "outputs": [
    {
     "data": {
      "text/plain": [
       "Card(rank='Q', suit='diamonds')"
      ]
     },
     "execution_count": 4,
     "metadata": {},
     "output_type": "execute_result"
    }
   ],
   "source": [
    "from random import choice\n",
    "choice(f)"
   ]
  },
  {
   "cell_type": "code",
   "execution_count": 5,
   "id": "dc39a804",
   "metadata": {},
   "outputs": [
    {
     "data": {
      "text/plain": [
       "[Card(rank='2', suit='spades'),\n",
       " Card(rank='3', suit='spades'),\n",
       " Card(rank='4', suit='spades')]"
      ]
     },
     "execution_count": 5,
     "metadata": {},
     "output_type": "execute_result"
    }
   ],
   "source": [
    "f[:3]\n"
   ]
  },
  {
   "cell_type": "code",
   "execution_count": 6,
   "id": "43943abb",
   "metadata": {},
   "outputs": [
    {
     "data": {
      "text/plain": [
       "[Card(rank='2', suit='spades'),\n",
       " Card(rank='2', suit='diamonds'),\n",
       " Card(rank='2', suit='clubs'),\n",
       " Card(rank='2', suit='hearts')]"
      ]
     },
     "execution_count": 6,
     "metadata": {},
     "output_type": "execute_result"
    }
   ],
   "source": [
    "f[::13]"
   ]
  },
  {
   "cell_type": "code",
   "execution_count": 7,
   "id": "439ef6ee",
   "metadata": {},
   "outputs": [],
   "source": [
    "#for card in reversed(f) :\n",
    "    #print (card)"
   ]
  },
  {
   "cell_type": "code",
   "execution_count": 8,
   "id": "a2adc229",
   "metadata": {},
   "outputs": [
    {
     "data": {
      "text/plain": [
       "True"
      ]
     },
     "execution_count": 8,
     "metadata": {},
     "output_type": "execute_result"
    }
   ],
   "source": [
    "Card('Q', 'hearts') in f"
   ]
  },
  {
   "cell_type": "code",
   "execution_count": 10,
   "id": "d764bb77",
   "metadata": {},
   "outputs": [
    {
     "data": {
      "text/plain": [
       "2"
      ]
     },
     "execution_count": 10,
     "metadata": {},
     "output_type": "execute_result"
    }
   ],
   "source": [
    "FrenchDeck.ranks.index('4')"
   ]
  },
  {
   "cell_type": "code",
   "execution_count": 13,
   "id": "3fe44a59",
   "metadata": {},
   "outputs": [],
   "source": [
    "import math\n",
    "\n",
    "class Vector:\n",
    "    def __init__(self, x=0, y=0):\n",
    "        self.x = x\n",
    "        self.y = y\n",
    "        \n",
    "    def __repr__(self):\n",
    "        return f\"Vector({self.x!r}, {self.y!r})\"\n",
    "    \n",
    "    def __abs__(self):\n",
    "        return math.hypot(self.x, self.y)\n",
    "    \n",
    "    def __bool__(self):\n",
    "        return bool(abs(self))\n",
    "    \n",
    "    def __add__(self, other) :\n",
    "        return Vector(self.x + other.x, self.y + other.y)\n",
    "    \n",
    "    def __mul__(self, scalar) :\n",
    "        return Vector(scalar*self.x, scalar*self.y)"
   ]
  },
  {
   "cell_type": "code",
   "execution_count": 20,
   "id": "48513c58",
   "metadata": {},
   "outputs": [
    {
     "name": "stdout",
     "output_type": "stream",
     "text": [
      "Vector(3, 4)\n",
      "Vector(6, 12)\n",
      "5.0\n",
      "Vector('a', 'b')\n"
     ]
    }
   ],
   "source": [
    "v1 = Vector(2, 4)\n",
    "v2 = Vector(1, 0)\n",
    "\n",
    "print (v1+v2)\n",
    "print (v1*3)\n",
    "print (abs(v1 + v2))\n",
    "\n",
    "print (Vector('a', 'b'))"
   ]
  },
  {
   "cell_type": "code",
   "execution_count": 25,
   "id": "3e011099",
   "metadata": {},
   "outputs": [
    {
     "name": "stdout",
     "output_type": "stream",
     "text": [
      "Truthy\n"
     ]
    }
   ],
   "source": [
    "if (Vector()) :\n",
    "    print (\"Yay\")\n",
    "    \n",
    "if (Vector(1, 2)) :\n",
    "    print (\"Truthy\")"
   ]
  },
  {
   "cell_type": "code",
   "execution_count": 31,
   "id": "360e41b4",
   "metadata": {},
   "outputs": [
    {
     "name": "stdout",
     "output_type": "stream",
     "text": [
      "{2, 3}\n",
      "{1, 2, 3, 4}\n"
     ]
    }
   ],
   "source": [
    "a = set([1,2, 3])\n",
    "b = set([2, 3, 4])\n",
    "\n",
    "print (a&b)\n",
    "print (a|b)"
   ]
  }
 ],
 "metadata": {
  "kernelspec": {
   "display_name": "Python 3",
   "language": "python",
   "name": "python3"
  },
  "language_info": {
   "codemirror_mode": {
    "name": "ipython",
    "version": 3
   },
   "file_extension": ".py",
   "mimetype": "text/x-python",
   "name": "python",
   "nbconvert_exporter": "python",
   "pygments_lexer": "ipython3",
   "version": "3.8.8"
  }
 },
 "nbformat": 4,
 "nbformat_minor": 5
}
