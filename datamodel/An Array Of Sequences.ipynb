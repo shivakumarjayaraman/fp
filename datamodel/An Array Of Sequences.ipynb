{
 "cells": [
  {
   "cell_type": "code",
   "execution_count": 1,
   "id": "49ca7ccf",
   "metadata": {},
   "outputs": [],
   "source": [
    "##### Container sequences (heterogenous) : list, tuples, collections.deque : holds references\n",
    "##### Flat sequences (homogenous) :  str, bytes, array.array : holds values\n"
   ]
  },
  {
   "cell_type": "code",
   "execution_count": 2,
   "id": "1ecf79b9",
   "metadata": {},
   "outputs": [],
   "source": [
    "##### Mutable sequences : list, bytearray, array.array, collections.deque\n",
    "##### Immutable sequences : tuple, str, bytes\n"
   ]
  },
  {
   "cell_type": "code",
   "execution_count": 3,
   "id": "9377e177",
   "metadata": {},
   "outputs": [
    {
     "name": "stdout",
     "output_type": "stream",
     "text": [
      "True\n",
      "True\n",
      "True\n"
     ]
    }
   ],
   "source": [
    "from collections import abc\n",
    "\n",
    "print (issubclass(abc.MutableSequence, abc.Sequence))\n",
    "print (issubclass(abc.MutableSequence, abc.Collection))\n",
    "print (issubclass(list, abc.MutableSequence))\n"
   ]
  },
  {
   "cell_type": "code",
   "execution_count": 4,
   "id": "0a225b5f",
   "metadata": {},
   "outputs": [
    {
     "data": {
      "text/plain": [
       "[36, 162, 163, 165, 8364, 164]"
      ]
     },
     "execution_count": 4,
     "metadata": {},
     "output_type": "execute_result"
    }
   ],
   "source": [
    "symbols = '$¢£¥€¤'\n",
    "codes = [ord(s) for s in symbols]\n",
    "codes"
   ]
  },
  {
   "cell_type": "code",
   "execution_count": 5,
   "id": "bde2ceb0",
   "metadata": {},
   "outputs": [
    {
     "name": "stdout",
     "output_type": "stream",
     "text": [
      "[36, 162, 163, 165, 8364, 164]\n",
      "164\n"
     ]
    }
   ],
   "source": [
    "\n",
    "codes = [l := ord(s) for s in symbols]\n",
    "print (codes)\n",
    "print (l)"
   ]
  },
  {
   "cell_type": "code",
   "execution_count": 6,
   "id": "59272343",
   "metadata": {},
   "outputs": [
    {
     "name": "stdout",
     "output_type": "stream",
     "text": [
      "[162, 163, 165, 8364, 164]\n",
      "[162, 163, 165, 8364, 164]\n"
     ]
    }
   ],
   "source": [
    "print (list(filter (lambda s: s> 127, map(ord, symbols))))\n",
    "print (list(ord(s) for s in symbols if ord(s) > 127))"
   ]
  },
  {
   "cell_type": "code",
   "execution_count": 7,
   "id": "3082644c",
   "metadata": {},
   "outputs": [
    {
     "data": {
      "text/plain": [
       "[('black', 'S'),\n",
       " ('black', 'M'),\n",
       " ('black', 'L'),\n",
       " ('white', 'S'),\n",
       " ('white', 'M'),\n",
       " ('white', 'L')]"
      ]
     },
     "execution_count": 7,
     "metadata": {},
     "output_type": "execute_result"
    }
   ],
   "source": [
    "## cartesian prod\n",
    "\n",
    "colors = ['black', 'white']\n",
    "sizes = ['S', 'M', 'L']\n",
    "\n",
    "shirts = [(c, s) for c in colors for s in sizes]\n",
    "shirts"
   ]
  },
  {
   "cell_type": "code",
   "execution_count": 8,
   "id": "ee48f56c",
   "metadata": {},
   "outputs": [
    {
     "name": "stdout",
     "output_type": "stream",
     "text": [
      "{162, 163, 36, 165, 164, 8364}\n",
      "(36, 162, 163, 165, 8364, 164)\n",
      "array('I', [36, 162, 163, 165, 8364, 164])\n"
     ]
    }
   ],
   "source": [
    "## Generator expressions\n",
    "\n",
    "symb = {ord(s) for s in symbols}\n",
    "print (symb)\n",
    "\n",
    "tups = tuple(ord(s) for s in symbols)\n",
    "print (tups)\n",
    "\n",
    "import array\n",
    "arr = array.array('I', (ord(s) for s in symbols))\n",
    "print (arr)"
   ]
  },
  {
   "cell_type": "code",
   "execution_count": 9,
   "id": "086f55b8",
   "metadata": {},
   "outputs": [
    {
     "name": "stdout",
     "output_type": "stream",
     "text": [
      "shiva\n"
     ]
    }
   ],
   "source": [
    "x = ('shiva', 'jobless', '33')\n",
    "name, _, _ = x\n",
    "print (name)"
   ]
  },
  {
   "cell_type": "code",
   "execution_count": 10,
   "id": "cc725a65",
   "metadata": {},
   "outputs": [
    {
     "name": "stdout",
     "output_type": "stream",
     "text": [
      "True\n",
      "(10, 'alpha', [8, 2])\n",
      "(10, 'alpha', [8, 2])\n",
      "True\n",
      "True\n",
      "(10, 'alpha', [8, 2, 9])\n",
      "(10, 'alpha', [8, 2, 9])\n"
     ]
    }
   ],
   "source": [
    "a = (10, 'alpha', [1,2])\n",
    "b = a\n",
    "\n",
    "\n",
    "print (a == b)\n",
    "\n",
    "b[-1][0] = 8\n",
    "print (a)\n",
    "print (b)\n",
    "print (a==b)\n",
    "\n",
    "b[-1].append(9)\n",
    "\n",
    "print (a==b)\n",
    "\n",
    "print (a)\n",
    "print (b)"
   ]
  },
  {
   "cell_type": "code",
   "execution_count": 11,
   "id": "f4f6b1e5",
   "metadata": {},
   "outputs": [
    {
     "name": "stdout",
     "output_type": "stream",
     "text": [
      "Cant hash a\n"
     ]
    },
    {
     "data": {
      "text/plain": [
       "-3550055125485641917"
      ]
     },
     "execution_count": 11,
     "metadata": {},
     "output_type": "execute_result"
    }
   ],
   "source": [
    "try :\n",
    "    hash(a)\n",
    "except :\n",
    "    print (\"Cant hash a\")\n",
    "    \n",
    "b = (1, 2)\n",
    "hash(b)"
   ]
  },
  {
   "cell_type": "code",
   "execution_count": 12,
   "id": "ba515a55",
   "metadata": {},
   "outputs": [
    {
     "name": "stdout",
     "output_type": "stream",
     "text": [
      "5 4\n",
      "4 5\n",
      "2, 4\n"
     ]
    }
   ],
   "source": [
    "mytup = (5, 4)\n",
    "a, b = mytup\n",
    "print (a, b)\n",
    "b, a  = a, b\n",
    "print (a, b)\n",
    "\n",
    "a, b = divmod(20, 8)\n",
    "print (f\"{a}, {b}\")\n"
   ]
  },
  {
   "cell_type": "code",
   "execution_count": 13,
   "id": "cd7fe091",
   "metadata": {},
   "outputs": [
    {
     "name": "stdout",
     "output_type": "stream",
     "text": [
      "/usr/lib/crypto libcrypto.so\n"
     ]
    }
   ],
   "source": [
    "import os\n",
    "\n",
    "a, b = os.path.split(\"/usr/lib/crypto/libcrypto.so\")\n",
    "\n",
    "print (a, b)"
   ]
  },
  {
   "cell_type": "code",
   "execution_count": 14,
   "id": "4df4db66",
   "metadata": {},
   "outputs": [
    {
     "name": "stdout",
     "output_type": "stream",
     "text": [
      "0 1\n",
      "[2, 3, 4, 5, 6, 7, 8, 9]\n",
      "0 1 2 []\n"
     ]
    }
   ],
   "source": [
    "a, b, *rest = range(10)\n",
    "\n",
    "print (a, b)\n",
    "print (rest)\n",
    "\n",
    "a, b, c, *rest = range(3)\n",
    "print (a, b, c, rest)"
   ]
  },
  {
   "cell_type": "code",
   "execution_count": 15,
   "id": "5fa36c07",
   "metadata": {},
   "outputs": [
    {
     "data": {
      "text/plain": [
       "(1, 2, 3, 10, (12, 13))"
      ]
     },
     "execution_count": 15,
     "metadata": {},
     "output_type": "execute_result"
    }
   ],
   "source": [
    "def fun(a, b, c, d, *rest) :\n",
    "    return a, b, c, d, rest\n",
    "\n",
    "arr = [1, 2, 3]\n",
    "fun(*arr, 10, 12, 13)"
   ]
  },
  {
   "cell_type": "code",
   "execution_count": 16,
   "id": "3e1c70d8",
   "metadata": {},
   "outputs": [
    {
     "data": {
      "text/plain": [
       "(1, 2, 3, 4, 0, 1, 2, 3)"
      ]
     },
     "execution_count": 16,
     "metadata": {},
     "output_type": "execute_result"
    }
   ],
   "source": [
    "1, 2, 3, 4, *range(4)\n"
   ]
  },
  {
   "cell_type": "code",
   "execution_count": 17,
   "id": "deeff079",
   "metadata": {},
   "outputs": [
    {
     "name": "stdout",
     "output_type": "stream",
     "text": [
      "UNKNOWN Whatever\n",
      "Create 18 foo\n",
      "UNKNOWN READ\n",
      "READ Yo\n"
     ]
    }
   ],
   "source": [
    "def handle(msg) :\n",
    "    match msg:\n",
    "        case ['CREATE', data, arg] :\n",
    "            print (\"Create\", data, arg)\n",
    "        case ['READ', data] :\n",
    "            print (\"READ\", data)\n",
    "        case _ :\n",
    "            print (\"UNKNOWN\", msg)\n",
    "            \n",
    "handle(\"Whatever\")\n",
    "handle(('CREATE',  18,  \"foo\"))\n",
    "handle((\"READ\"))\n",
    "handle((\"READ\", \"Yo\"))"
   ]
  },
  {
   "cell_type": "code",
   "execution_count": 18,
   "id": "268b7bad-4330-487c-9e00-3bea32dac978",
   "metadata": {},
   "outputs": [
    {
     "name": "stdout",
     "output_type": "stream",
     "text": [
      "elcycib\n",
      "bcce\n",
      "eccb\n",
      "bicycle\n"
     ]
    }
   ],
   "source": [
    "## slicing\n",
    "s = \"bicycle\"\n",
    "print (s[::-1])\n",
    "print (s[::2])\n",
    "print (s[::-2])\n",
    "print (s[::1])\n",
    "\n"
   ]
  },
  {
   "cell_type": "code",
   "execution_count": 19,
   "id": "12d60221-889b-42cd-87a4-451b13c8a245",
   "metadata": {},
   "outputs": [
    {
     "name": "stdout",
     "output_type": "stream",
     "text": [
      "   $17.50      Pimoroni PiBrella                  3\n",
      "    $4.95      6mm Tactile Switch x20             2\n",
      "   $28.00      Panavise Jr. - PV-201              1\n",
      "   $34.95      PiTFT Mini Kit 320x240             1\n",
      "  \n"
     ]
    }
   ],
   "source": [
    "invoice = \"\"\"\n",
    "0.....6.................................40........52...55........\n",
    "1909    Pimoroni PiBrella                  $17.50     3    $52.50\n",
    "1489    6mm Tactile Switch x20              $4.95     2     $9.90\n",
    "1510    Panavise Jr. - PV-201              $28.00     1    $28.00\n",
    "1601    PiTFT Mini Kit 320x240             $34.95     1    $34.95\n",
    "\"\"\"\n",
    "\n",
    "SKU = slice(0, 6)\n",
    "DESC = slice(6, 40)\n",
    "UNIT_PRICE = slice(40, 52)\n",
    "QUANTITY = slice(52, 55)\n",
    "TOTAL = slice(55, None)\n",
    "line_items = invoice.split('\\n')[2:]\n",
    "for item in line_items:\n",
    "    print (item[UNIT_PRICE], item[DESC], item[QUANTITY])"
   ]
  },
  {
   "cell_type": "code",
   "execution_count": 20,
   "id": "5e9a5398-65d5-48e2-bfbb-ca67ba02d462",
   "metadata": {},
   "outputs": [
    {
     "name": "stdout",
     "output_type": "stream",
     "text": [
      "[[[ 0  1  2]\n",
      "  [ 3  4  5]\n",
      "  [ 6  7  8]\n",
      "  [ 9 10 11]\n",
      "  [12 13 14]\n",
      "  [15 16 17]]\n",
      "\n",
      " [[18 19 20]\n",
      "  [21 22 23]\n",
      "  [24 25 26]\n",
      "  [27 28 29]\n",
      "  [30 31 32]\n",
      "  [33 34 35]]]\n",
      "[[[ 1  2]\n",
      "  [ 4  5]\n",
      "  [ 7  8]\n",
      "  [10 11]\n",
      "  [13 14]\n",
      "  [16 17]]\n",
      "\n",
      " [[19 20]\n",
      "  [22 23]\n",
      "  [25 26]\n",
      "  [28 29]\n",
      "  [31 32]\n",
      "  [34 35]]]\n"
     ]
    }
   ],
   "source": [
    "import numpy as np\n",
    "\n",
    "a = np.arange(36).reshape(2, 6, 3)\n",
    "print (a)\n",
    "print (a[..., 1:])"
   ]
  },
  {
   "cell_type": "code",
   "execution_count": 21,
   "id": "9cc99270-b065-4c09-a36e-958ae321b127",
   "metadata": {},
   "outputs": [
    {
     "data": {
      "text/plain": [
       "'abcdabcdabcdabcdabcd'"
      ]
     },
     "execution_count": 21,
     "metadata": {},
     "output_type": "execute_result"
    }
   ],
   "source": [
    "l = [1, 2, 3]\n",
    "l*5\n",
    "'abcd' * 5"
   ]
  },
  {
   "cell_type": "code",
   "execution_count": 22,
   "id": "a26fc725-c412-4f3d-963e-510cc3ea9bd2",
   "metadata": {},
   "outputs": [
    {
     "name": "stdout",
     "output_type": "stream",
     "text": [
      "[8, '_', '_']\n"
     ]
    }
   ],
   "source": [
    "l = ['_']*3\n",
    "l[0] = 8\n",
    "print (l)\n"
   ]
  },
  {
   "cell_type": "code",
   "execution_count": 23,
   "id": "261208a2-00a2-4474-b308-40f318a9f3c3",
   "metadata": {},
   "outputs": [
    {
     "name": "stdout",
     "output_type": "stream",
     "text": [
      "[['33', '33'], ['33', '33']]\n",
      "[['33', 8], ['33', 8]]\n",
      "[['_', '_', '_'], ['_', '_', '_'], ['_', '_', '_']]\n",
      "[['_', 9, '_'], ['_', '_', '_'], ['_', '_', '_']]\n"
     ]
    }
   ],
   "source": [
    "l = [[_]*2] * 2\n",
    "print (l)\n",
    "l[0][1] = 8\n",
    "print (l)\n",
    "\n",
    "l = [['_'] * 3 for i in range(3)]\n",
    "print (l)\n",
    "l[0][1] = 9\n",
    "print (l)"
   ]
  },
  {
   "cell_type": "code",
   "execution_count": 24,
   "id": "72332483-8795-4ac9-b5b0-e911997471b5",
   "metadata": {},
   "outputs": [
    {
     "name": "stdout",
     "output_type": "stream",
     "text": [
      "4604999680\n",
      "[1, 2, 3, 1, 2, 3]\n",
      "4604999680\n",
      "4603940928\n",
      "(1, 2, 3, 1, 2, 3)\n",
      "4577748992\n"
     ]
    }
   ],
   "source": [
    "l = [1, 2, 3]\n",
    "print (id(l))\n",
    "l *= 2\n",
    "print (l)\n",
    "print (id(l))\n",
    "\n",
    "t = (1, 2, 3)\n",
    "print (id(t))\n",
    "t *= 2\n",
    "print (t)\n",
    "print (id(t))"
   ]
  },
  {
   "cell_type": "code",
   "execution_count": 27,
   "id": "66350479-5d19-4b43-9bbf-bbfab4854347",
   "metadata": {},
   "outputs": [
    {
     "name": "stdout",
     "output_type": "stream",
     "text": [
      "error\n",
      "(1, 2, [30, 40, 50, 60])\n"
     ]
    }
   ],
   "source": [
    "t = (1, 2, [30, 40])\n",
    "try :\n",
    "    t[2] += [50, 60]\n",
    "except :\n",
    "    print (\"error\")\n",
    "\n",
    "print (t)"
   ]
  },
  {
   "cell_type": "code",
   "execution_count": 32,
   "id": "e9ff10a9-c8c7-4eb1-9fc3-702f5d8ab1de",
   "metadata": {},
   "outputs": [
    {
     "name": "stdout",
     "output_type": "stream",
     "text": [
      "d\n"
     ]
    }
   ],
   "source": [
    "from array import array\n",
    "from random import random\n",
    "\n",
    "floats = array('d', (random() for i in range(10**7)))\n",
    "floats[-1]\n",
    "\n",
    "print (floats.typecode)"
   ]
  },
  {
   "cell_type": "code",
   "execution_count": 37,
   "id": "e9d5564f-8efa-454f-84aa-0685af3d2d4e",
   "metadata": {},
   "outputs": [
    {
     "name": "stdout",
     "output_type": "stream",
     "text": [
      "deque([2, 3, 4, 5, 6, 7, 8, 9, 0, 1], maxlen=10)\n"
     ]
    }
   ],
   "source": [
    "from collections import deque\n",
    "\n",
    "dq = deque(range(10), maxlen=10)\n",
    "dq.rotate(-2)\n",
    "print(dq)"
   ]
  },
  {
   "cell_type": "code",
   "execution_count": null,
   "id": "001c55b0-531d-4182-8638-1dd74fb84ad3",
   "metadata": {},
   "outputs": [],
   "source": []
  }
 ],
 "metadata": {
  "kernelspec": {
   "display_name": "Python 3 (ipykernel)",
   "language": "python",
   "name": "python3"
  },
  "language_info": {
   "codemirror_mode": {
    "name": "ipython",
    "version": 3
   },
   "file_extension": ".py",
   "mimetype": "text/x-python",
   "name": "python",
   "nbconvert_exporter": "python",
   "pygments_lexer": "ipython3",
   "version": "3.11.7"
  }
 },
 "nbformat": 4,
 "nbformat_minor": 5
}
